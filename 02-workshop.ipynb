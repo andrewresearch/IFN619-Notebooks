{
 "cells": [
  {
   "cell_type": "markdown",
   "metadata": {
    "slideshow": {
     "slide_type": "slide"
    }
   },
   "source": [
    "<div class=\"alert alert-block alert-success\"><h3>IFN619 - Data Analytics for Information Professionals</h4></div>"
   ]
  },
  {
   "cell_type": "markdown",
   "metadata": {
    "slideshow": {
     "slide_type": "slide"
    }
   },
   "source": [
    "## Workshop 02 :: Decision Analysis / Case Studies in Data Analytics\n",
    "\n",
    "1. Motivation Example\n",
    "\n"
   ]
  },
  {
   "cell_type": "markdown",
   "metadata": {
    "slideshow": {
     "slide_type": "slide"
    }
   },
   "source": [
    "### [1] Motivation: the Analytics Process and Decision Analysis\n",
    "\n",
    "You have been hired to be the data analyst of the company *Hesiod*, which analyses real estate indicators of different countries. \n",
    "\n",
    "Marcel, the CEO of the company, provides you some datasets with financial and economic indicators and asks your opinion about what to expect in the next couple of years in the housing market. Can you help Marcel?"
   ]
  },
  {
   "cell_type": "markdown",
   "metadata": {
    "slideshow": {
     "slide_type": "slide"
    }
   },
   "source": [
    "### The Analytics Process\n",
    "\n",
    "<img src=\"images/Data Analytics Decision Process.png\" />\n",
    "\n",
    "\n"
   ]
  },
  {
   "cell_type": "markdown",
   "metadata": {
    "slideshow": {
     "slide_type": "slide"
    }
   },
   "source": [
    "### Collecting / Loading Data\n",
    "\n",
    "We will use Python **as a tool** to help us gain some insight about the data and to help us to **answer our business concern**.\n",
    "\n",
    "The dataset that you need to analyse is in the folder 'data/House_Price_Index_2003_2018.csv'\n",
    "\n",
    "You can load the data into Python in the following way"
   ]
  },
  {
   "cell_type": "code",
   "execution_count": null,
   "metadata": {
    "slideshow": {
     "slide_type": "fragment"
    }
   },
   "outputs": [],
   "source": [
    "# import the required Python libraries to process the data:\n",
    "import pandas as pd                # used for data manipulation and data analysis\n",
    "import matplotlib.pyplot as plt    # used for visualisation\n",
    "\n",
    "# specify the location and the filenae of your dataset\n",
    "file_path = 'data/House_Price_Index_2003_2018_v2.csv'   \n",
    "\n",
    "# load the .csv dataset using the function read_csv, which is part of the pandas library\n",
    "data = pd.read_csv(file_path)\n",
    "\n",
    "# We can already have some general information about our dataset by getting \n",
    "# the number of rows and columns of the data. For this, we use the *shape* method from Python:\n",
    "dimensions = data.shape\n",
    "\n",
    "print( 'General size of the dataset: ' + str( dimensions ))\n",
    "\n",
    "# and we can extract the number of rows and the number of columns by doing:\n",
    "num_rows = dimensions[0] # 1st component of the variable dimensions\n",
    "num_col  = dimensions[1] # 2nd component of the variable dimensions\n",
    "\n",
    "print('The dataset has ' + str( num_rows ) + ' rows and ' + str( num_col ) + ' columns!' )\n"
   ]
  },
  {
   "cell_type": "markdown",
   "metadata": {
    "slideshow": {
     "slide_type": "slide"
    }
   },
   "source": [
    "We can also display the data so we can see what we are dealing with:"
   ]
  },
  {
   "cell_type": "code",
   "execution_count": null,
   "metadata": {
    "slideshow": {
     "slide_type": "subslide"
    }
   },
   "outputs": [],
   "source": [
    "# we can print the dataset just to check what it contains\n",
    "print(  data )"
   ]
  },
  {
   "cell_type": "markdown",
   "metadata": {
    "slideshow": {
     "slide_type": "slide"
    }
   },
   "source": [
    "**QUESTION:** \n",
    "- What do the **rows** and **columns** of this dataset **represent**?\n"
   ]
  },
  {
   "cell_type": "markdown",
   "metadata": {
    "slideshow": {
     "slide_type": "subslide"
    }
   },
   "source": [
    "**ANSWER**\n",
    "- **Rows** represent the **house price index** for each **quarter (date)**.\n",
    "- **Columns** represent the **house price index** for each **country**"
   ]
  },
  {
   "cell_type": "markdown",
   "metadata": {
    "slideshow": {
     "slide_type": "subslide"
    }
   },
   "source": [
    "### Clean / PreProcess\n",
    "\n",
    "We will leavet this step to be exploored in more detail in the next workshop. However, we can still make some interesting questions about this data:\n",
    "\n",
    "- Q1: What is this dataset about?\n",
    "- Q2: What are the main problems with this dataset? \n",
    "- Q3: Is the data relevant to our initial question (our Business concern)?"
   ]
  },
  {
   "cell_type": "markdown",
   "metadata": {
    "slideshow": {
     "slide_type": "subslide"
    }
   },
   "source": [
    "**ANSWER:** (Group activity)\n",
    "- Q1: \n",
    "- Q2: \n",
    "- Q3:"
   ]
  },
  {
   "cell_type": "markdown",
   "metadata": {
    "slideshow": {
     "slide_type": "slide"
    }
   },
   "source": [
    "### Perform Analysis\n",
    "\n",
    "This dataset describes the **house indexes of different countries in the world**. \n",
    "\n",
    "Remeber our question: *what to expect in the next couple of years in the housing market?*\n",
    "\n",
    "This is a vague question that requires you to **explore** the dataset to get some *insights* about the data.\n",
    "\n",
    "We can start this process by asking questions:"
   ]
  },
  {
   "cell_type": "markdown",
   "metadata": {
    "slideshow": {
     "slide_type": "subslide"
    }
   },
   "source": [
    "**Question:** Which countries are in our dataset?"
   ]
  },
  {
   "cell_type": "code",
   "execution_count": null,
   "metadata": {
    "slideshow": {
     "slide_type": "subslide"
    }
   },
   "outputs": [],
   "source": [
    "# the method '.columns' extracts a list with the headings of your dataset\n",
    "headings = data.columns\n",
    "\n",
    "for head in headings:   # for each column in the list of columns\n",
    "    print( head )       # print the data\n",
    "    "
   ]
  },
  {
   "cell_type": "markdown",
   "metadata": {
    "slideshow": {
     "slide_type": "fragment"
    }
   },
   "source": [
    "Maybe we can clean this more..."
   ]
  },
  {
   "cell_type": "code",
   "execution_count": null,
   "metadata": {
    "slideshow": {
     "slide_type": "fragment"
    }
   },
   "outputs": [],
   "source": [
    "# selects data from the 2nd position of the list, until the end\n",
    "countries = headings[2:]\n",
    "for country in countries:   \n",
    "    print( country )      \n",
    "    "
   ]
  },
  {
   "cell_type": "markdown",
   "metadata": {
    "slideshow": {
     "slide_type": "slide"
    }
   },
   "source": [
    "**Question:** For how many years has this information been collected?"
   ]
  },
  {
   "cell_type": "code",
   "execution_count": null,
   "metadata": {
    "slideshow": {
     "slide_type": "subslide"
    }
   },
   "outputs": [],
   "source": [
    "# instead of using the 'posiiton' of the data, we can extract it by its column name through\n",
    "# the method .loc[]\n",
    "all_dates = data.loc[:, \"Date\"]\n",
    "\n",
    "print( all_dates )"
   ]
  },
  {
   "cell_type": "markdown",
   "metadata": {
    "slideshow": {
     "slide_type": "subslide"
    }
   },
   "source": [
    "We can also clean this more by taking out repeated entries"
   ]
  },
  {
   "cell_type": "code",
   "execution_count": null,
   "metadata": {
    "slideshow": {
     "slide_type": "subslide"
    }
   },
   "outputs": [],
   "source": [
    "# the function unique() removes duplicated entries from the data\n",
    "dates = all_dates.unique()\n",
    "print( dates )"
   ]
  },
  {
   "cell_type": "markdown",
   "metadata": {
    "slideshow": {
     "slide_type": "slide"
    }
   },
   "source": [
    "**QUESTION:** For how many years has this information been collected?\n",
    "\n",
    "**ANSWER?**\n",
    "- Answer here"
   ]
  },
  {
   "cell_type": "markdown",
   "metadata": {
    "slideshow": {
     "slide_type": "slide"
    }
   },
   "source": [
    "### Visualization\n",
    "\n",
    "We can try to visualize our data to get some more insights. We can plot the house price indexes of Australia from 2003 to 2018. But for that... we need to process data again...\n",
    "\n",
    "We need to eliminate the *Quarter* dimension of our data by grouping the data by Date (which represents the year). This is performed by making the **average** of the **house price indexes** of each **country** for **ALL QUARTERS** and **aggregating** the results **by year**. In Python, one can do this using the function *.groupby and the aggregation of the data is done by computing the **mean**.\n",
    "The following figure shows an example.\n",
    "\n",
    "<img src='images/groupBy.png' />\n"
   ]
  },
  {
   "cell_type": "code",
   "execution_count": null,
   "metadata": {},
   "outputs": [],
   "source": [
    "import matplotlib.pyplot as plt\n",
    "import numpy as np\n",
    "\n",
    "# Group data records from Australia and UK by DATE in order to have data in the format:\n",
    "# 2003 price_2003\n",
    "# 2004 price_2004 ...\n",
    "# This way, we are removing the Quarter column from our representation\n",
    "AU_house_price_indx = data.groupby('Date')['Australia'].mean()\n",
    "UK_house_price_indx = data.groupby('Date')['United Kingdom'].mean()\n",
    "\n",
    "# Compute the overall average of the house prices in Australia and in UK\n",
    "AU_house_price_indx_avg = data['Australia'].mean()\n",
    "# Display the results as a list instead of a single value\n",
    "print( 'The avarage house price index in Australia is ' + str(round(AU_house_price_indx_avg,4)) )\n",
    "\n",
    "# Convert to a format where you will have the average house price as a list\n",
    "# We need this for plotting reasons\n",
    "lst = np.ones(num_col - 1, float)\n",
    "AU_house_price_indx_avg = round( data['Australia'].mean(), 4)*lst\n",
    "print('\\nAverage house prices in a list format: you repeat this value for all the years (for plotting purposes) ')\n",
    "print( AU_house_price_indx_avg )\n",
    "\n",
    "# Compute the average of house prices for UK and represent the results as a list\n",
    "UK_house_price_indx_avg = data['United Kingdom'].mean()*lst\n",
    "\n"
   ]
  },
  {
   "cell_type": "code",
   "execution_count": null,
   "metadata": {},
   "outputs": [],
   "source": [
    "fig = plt.figure()\n",
    "plt.subplot(2, 1, 2)\n",
    "plt.plot( AU_house_price_indx, label='Australia')   # House prices per year in AU\n",
    "plt.plot( dates, AU_house_price_indx_avg )          # Overall average of house price indx in AU\n",
    "plt.ylabel('HPI')\n",
    "plt.title('Australia House Price Index (HPI)')\n",
    "plt.legend(bbox_to_anchor=(1.1, 1.05))\n",
    "plt.show()\n",
    "\n",
    "plt.subplot(2, 1, 2)\n",
    "plt.plot(UK_house_price_indx, label='United Kingdom')  # House prices per year in UK\n",
    "plt.plot(dates, UK_house_price_indx_avg)               # Overall average of house price indx in UK\n",
    "plt.ylabel('HPI')\n",
    "plt.title('United Kingdom House Price Index (HPI)')\n",
    "plt.legend(bbox_to_anchor=(1.5, 1.05))\n",
    "plt.show()"
   ]
  },
  {
   "cell_type": "markdown",
   "metadata": {},
   "source": [
    "**Question** Are there similarities between the house price indexes in UK with Australia?\n",
    "\n",
    "**ANSWER**"
   ]
  },
  {
   "cell_type": "code",
   "execution_count": null,
   "metadata": {},
   "outputs": [],
   "source": [
    "# visualize data\n",
    "plt.plot(UK_house_price_indx)\n",
    "plt.plot(AU_house_price_indx)\n",
    "plt.ylabel('HPI')\n",
    "plt.title('United Kingdom vs Australia House Price Index (HPI)')\n",
    "plt.legend(bbox_to_anchor=(1.1, 1.05))\n",
    "plt.show()"
   ]
  },
  {
   "cell_type": "code",
   "execution_count": null,
   "metadata": {},
   "outputs": [],
   "source": [
    "#Select UK house price indexes from 2003 - 2010\n",
    "UK_house_price_03_10 = UK_house_price_indx[0:8] \n",
    "#Select UK house price indexes from 2003 - 2010\n",
    "UK_house_price_08_18 = UK_house_price_indx[6:]  \n",
    "\n",
    "#Select AU house price indexes from 2003 - 2010\n",
    "AU_house_price_03_10 = AU_house_price_indx[0:8]  \n",
    "#Select AU house price indexes from 2008 - 2018\n",
    "AU_house_price_08_18 = AU_house_price_indx[6:] \n"
   ]
  },
  {
   "cell_type": "code",
   "execution_count": null,
   "metadata": {},
   "outputs": [],
   "source": [
    "# visualize data\n",
    "plt.subplot(2, 1, 2)\n",
    "plt.plot(UK_house_price_03_10)\n",
    "plt.plot(AU_house_price_03_10)\n",
    "plt.ylabel('HPI')\n",
    "plt.title('HPI UK vs AU (2003 - 2010)')\n",
    "plt.legend(bbox_to_anchor=(1.5, 1.05))\n",
    "plt.show()\n",
    "\n",
    "plt.subplot(2, 1, 2)\n",
    "plt.plot(UK_house_price_08_18)\n",
    "plt.plot(AU_house_price_08_18)\n",
    "plt.ylabel('HPI')\n",
    "plt.title('HPI UK vs AU (2010 - 2018)')\n",
    "plt.legend(bbox_to_anchor=(1.1, 1.05))\n",
    "plt.show()"
   ]
  },
  {
   "cell_type": "markdown",
   "metadata": {},
   "source": [
    "**Group Activity**\n",
    "- Q1: Can you explain the exponential growth of house prices in UK between 2003 - 2007?\n",
    "- Q2: Why house prices started to drop in UK between 2007 - 2014?\n",
    "- Q3: What happened to the housing sector in Australia\n",
    "    - Q3.1. Before 2007:\n",
    "    - Q3.2. Between 2007 - 2010\n",
    "    - Q3.3. Between 2010 - 2013\n",
    "    - Q3.4. After 2014\n"
   ]
  },
  {
   "cell_type": "markdown",
   "metadata": {},
   "source": [
    "**OUTCOME OF GROUP ACTIVITY**\n",
    "- Q1:\n",
    "- Q2:\n",
    "- Q3:\n",
    "    - Q3.1.\n",
    "    - Q3.2.\n",
    "    - Q3.3.\n",
    "    - Q3.4."
   ]
  },
  {
   "cell_type": "markdown",
   "metadata": {},
   "source": [
    "### Try it yourself! Goup Activity###\n",
    "\n",
    "It is interesting to analyse the housing market in different sets of countries: \n",
    "- Southern European countries: Portugal, Spain, Italy, Greece\n",
    "- Northen European countries: Sweden, Finland, Norway \n",
    "- Major European powers: Germany, France, UK\n",
    "- USA vs UK\n",
    "\n",
    "Plot three graphs, showing these three sets of contries in different plots. Interpret the data."
   ]
  },
  {
   "cell_type": "code",
   "execution_count": null,
   "metadata": {},
   "outputs": [],
   "source": [
    "# SOUTHERN EUROPE ANALYSIS\n",
    "\n",
    "# Group data by year | country\n",
    "group_col = ???\n",
    "PT_house_price_indx = data.groupby(group_col)[???].mean()  # Portugal\n",
    "SP_house_price_indx = data.groupby(group_col)[???].mean()  # Spain\n",
    "IT_house_price_indx = data.groupby(group_col)[???].mean()  # Italy\n",
    "GR_house_price_indx = data.groupby(group_col)[???].mean()  # Greece\n",
    "\n",
    "# Plot results\n",
    "plt.plot(IT_house_price_indx[3:])\n",
    "plt.plot(GR_house_price_indx)\n",
    "plt.legend(bbox_to_anchor=(1.5, 1.05))\n",
    "plt.ylabel('HPI')\n",
    "plt.title('Italy vs Greece House Price Index (HPI)')\n",
    "plt.show()\n",
    "\n",
    "plt.plot(PT_house_price_indx)\n",
    "plt.plot(SP_house_price_indx[5:])\n",
    "plt.legend(bbox_to_anchor=(1.1, 1.05))\n",
    "plt.ylabel('HPI')\n",
    "plt.title('Portugal vs Spain House Price Index (HPI)')\n",
    "plt.show()\n"
   ]
  },
  {
   "cell_type": "markdown",
   "metadata": {},
   "source": [
    "### Insert here your interpretations of the graphs\n",
    "1. ???\n",
    "2. ???\n",
    "3. ???"
   ]
  },
  {
   "cell_type": "code",
   "execution_count": null,
   "metadata": {},
   "outputs": [],
   "source": [
    "# The Case of Ireland and Iceland\n",
    "\n",
    "# Group data by year | country\n",
    "group_col = ???\n",
    "IR_house_price_indx = data.groupby(group_col)['Ireland'].mean()  # Ireland\n",
    "IC_house_price_indx = data.groupby(group_col)['Iceland'].mean()  # Iceland\n",
    "\n",
    "# Plot results\n",
    "plt.subplot(2, 1, 2)\n",
    "plt.plot(IR_house_price_indx)\n",
    "plt.plot(IC_house_price_indx[2:])\n",
    "plt.legend(bbox_to_anchor=(1.1, 1.05))\n",
    "plt.ylabel('HPI')\n",
    "plt.title('Ireland vs Iceland House Price Index (HPI)')\n",
    "plt.show()\n",
    "\n"
   ]
  },
  {
   "cell_type": "markdown",
   "metadata": {},
   "source": [
    "### Insert here your interpretations of the graphs\n",
    "1. ???\n",
    "2. ???\n",
    "3. ???"
   ]
  },
  {
   "cell_type": "code",
   "execution_count": null,
   "metadata": {},
   "outputs": [],
   "source": [
    "# NORTHERN EUROPE ANALYSIS\n",
    "\n",
    "# Group data by year | country\n",
    "group_col = ???\n",
    "SW_house_price_indx = data.groupby(group_col)[???].mean()   # Sweden\n",
    "NOR_house_price_indx = data.groupby(group_col)[???].mean()  # Norway\n",
    "FIN_house_price_indx = data.groupby(group_col)[???].mean()  # Finland\n",
    "\n",
    "# Plot results\n",
    "plt.plot(SW_house_price_indx[2:])\n",
    "plt.plot(NOR_house_price_indx[2:])\n",
    "plt.plot(FIN_house_price_indx)\n",
    "plt.legend(bbox_to_anchor=(1.1, 1.05))\n",
    "plt.ylabel('HPI')\n",
    "plt.title('Northern Europe Countries House Price Index (HPI)')\n",
    "plt.show()"
   ]
  },
  {
   "cell_type": "markdown",
   "metadata": {},
   "source": [
    "### Insert here your interpretations of the graphs\n",
    "1. ???\n",
    "2. ???\n",
    "3. ???"
   ]
  },
  {
   "cell_type": "code",
   "execution_count": null,
   "metadata": {},
   "outputs": [],
   "source": [
    "# MAIN EUROPE POWERS ANALYSIS\n",
    "\n",
    "# Group data by year | country\n",
    "group_col = ???\n",
    "GE_house_price_indx = data.groupby(group_col)[???].mean()   # Germany\n",
    "FR_house_price_indx = data.groupby(group_col)[???].mean()   # France\n",
    "\n",
    "# Plot results\n",
    "plt.plot(GE_house_price_indx)\n",
    "plt.legend(bbox_to_anchor=(1.1, 1.05))\n",
    "plt.ylabel('HPI')\n",
    "plt.title('Germany House Price Index (HPI)')\n",
    "plt.show()\n",
    "\n",
    "# Plot results\n",
    "plt.plot(FR_house_price_indx)\n",
    "plt.legend(bbox_to_anchor=(1.1, 1.05))\n",
    "plt.ylabel('HPI')\n",
    "plt.title('France House Price Index (HPI)')\n",
    "plt.show()"
   ]
  },
  {
   "cell_type": "markdown",
   "metadata": {},
   "source": [
    "### Insert here your interpretations of the graphs\n",
    "1. ???\n",
    "2. ???\n",
    "3. ???"
   ]
  },
  {
   "cell_type": "code",
   "execution_count": null,
   "metadata": {},
   "outputs": [],
   "source": [
    "# Group data by year | country\n",
    "USA_house_price_indx = data.groupby(???)[???].mean()   # United States of America\n",
    "\n",
    "# Plot results\n",
    "plt.plot(USA_house_price_indx)         # USA\n",
    "plt.plot(UK_house_price_indx)          # UK\n",
    "plt.legend(bbox_to_anchor=(1.1, 1.05))\n",
    "plt.ylabel('HPI')\n",
    "plt.title('USA vs UK House Price Index (HPI)')\n",
    "plt.show()"
   ]
  },
  {
   "cell_type": "markdown",
   "metadata": {},
   "source": [
    "### Insert here your interpretations of the graphs\n",
    "1. ???\n",
    "2. ???\n",
    "3. ???"
   ]
  },
  {
   "cell_type": "markdown",
   "metadata": {},
   "source": [
    "### Final Discussion ###\n",
    "What do you think it will happen in the next couple of years in the housing sector? What is the trend in Australia? Is there a pattern from past data when we compare with other countries?\n",
    "\n",
    "1. ans1 \n",
    "2. ans2\n",
    "3. ans3\n"
   ]
  },
  {
   "cell_type": "markdown",
   "metadata": {},
   "source": [
    "### The Impact of Interest Rates\n",
    "\n",
    "In this section, we present you how you can plot data with different ranges in a single graph so we can interprete da data and compare it.\n",
    "\n",
    "We will anayse the relationship between house prices and interest rates in UK and Australia"
   ]
  },
  {
   "cell_type": "code",
   "execution_count": 82,
   "metadata": {},
   "outputs": [
    {
     "name": "stdout",
     "output_type": "stream",
     "text": [
      "General size of the dataset: (62, 17)\n",
      "The dataset has 62 rows and 17 columns!\n"
     ]
    }
   ],
   "source": [
    "# specify the location and the filenae of your dataset\n",
    "file_path = 'data/interest_rates.csv'   \n",
    "\n",
    "# load the .csv dataset using the function read_csv, which is part of the pandas library\n",
    "int_rates = pd.read_csv(file_path)\n",
    "\n",
    "# We can already have some general information about our dataset by getting \n",
    "# the number of rows and columns of the data. For this, we use the *shape* method from Python:\n",
    "dimensions = data.shape\n",
    "\n",
    "print( 'General size of the dataset: ' + str( dimensions ))\n",
    "\n",
    "# and we can extract the number of rows and the number of columns by doing:\n",
    "num_rows = dimensions[0] # 1st component of the variable dimensions\n",
    "num_col  = dimensions[1] # 2nd component of the variable dimensions\n",
    "\n",
    "print('The dataset has ' + str( num_rows ) + ' rows and ' + str( num_col ) + ' columns!' )\n"
   ]
  },
  {
   "cell_type": "code",
   "execution_count": null,
   "metadata": {},
   "outputs": [],
   "source": [
    "int_rates"
   ]
  },
  {
   "cell_type": "markdown",
   "metadata": {},
   "source": [
    "### Visualising Data\n",
    "\n",
    "As you have noticed, the house price index usually varies between 100 - 140. When we take into consideration interest rates, these values usually vary between 0% and 15%. If we plot these figures in one single graph , you wll notice that the data will be skewed in order because it will be affected by the scalling of the house prices. So, we would not be able to analyse the data correctly:"
   ]
  },
  {
   "cell_type": "code",
   "execution_count": 86,
   "metadata": {},
   "outputs": [
    {
     "data": {
      "image/png": "[encoded data removed]",
      "text/plain": [
       "<Figure size 432x288 with 1 Axes>"
      ]
     },
     "metadata": {
      "needs_background": "light"
     },
     "output_type": "display_data"
    }
   ],
   "source": [
    "UK_int_rates = int_rates.groupby('Date')['United Kingdom'].mean()\n",
    "\n",
    "plt.plot(UK_int_rates, label='Interest Rates') \n",
    "plt.plot(UK_house_price_indx, label='House Price Index')          \n",
    "plt.legend(bbox_to_anchor=(1.1, 1.05))\n",
    "plt.ylabel('HPI')\n",
    "plt.title('House Price Index (HPI) vs Interest Rates in UK')\n",
    "plt.show()"
   ]
  },
  {
   "cell_type": "markdown",
   "metadata": {},
   "source": [
    "One way to avoid this is to plot the data with two different y-axis. This way, we are to see the data represented in its own scale. This will allow us a more clear interpretation of how data moves throughout time and how to interpret it."
   ]
  },
  {
   "cell_type": "code",
   "execution_count": 89,
   "metadata": {},
   "outputs": [
    {
     "data": {
      "image/png": "[encoded data removed]",
      "text/plain": [
       "<Figure size 432x288 with 2 Axes>"
      ]
     },
     "metadata": {
      "needs_background": "light"
     },
     "output_type": "display_data"
    }
   ],
   "source": [
    "# interest_rates in UK\n",
    "UK_int_rates = int_rates.groupby('Date')['United Kingdom'].mean()\n",
    "\n",
    "fig = plt.figure()\n",
    "ax1 = fig.add_subplot(111)\n",
    "ax1.plot(UK_house_price_indx)\n",
    "ax1.set_ylabel('House Price Index (HPI)')\n",
    "\n",
    "ax2 = ax1.twinx()\n",
    "ax2.plot(UK_int_rates, 'r-')\n",
    "ax2.set_ylabel('Interest Rates', color='r')\n",
    "\n",
    "plt.title('House Price Index (HPI) vs Interest Rates in UK')\n",
    "plt.show()\n"
   ]
  },
  {
   "cell_type": "code",
   "execution_count": 90,
   "metadata": {},
   "outputs": [
    {
     "data": {
      "image/png": "[encoded data removed]",
      "text/plain": [
       "<Figure size 432x288 with 2 Axes>"
      ]
     },
     "metadata": {
      "needs_background": "light"
     },
     "output_type": "display_data"
    }
   ],
   "source": [
    "# interest_rates in AU\n",
    "AU_int_rates = int_rates.groupby('Date')['Australia'].mean()\n",
    "\n",
    "fig = plt.figure()\n",
    "ax1 = fig.add_subplot(111)\n",
    "ax1.plot(AU_house_price_indx)\n",
    "ax1.set_ylabel('House Price Index (HPI)')\n",
    "\n",
    "ax2 = ax1.twinx()\n",
    "ax2.plot(AU_int_rates, 'r-')\n",
    "ax2.set_ylabel('Interest Rates', color='r')\n",
    "plt.title('House Price Index (HPI) vs Interest Rates in Australia')\n",
    "plt.show()"
   ]
  },
  {
   "cell_type": "code",
   "execution_count": 105,
   "metadata": {},
   "outputs": [
    {
     "data": {
      "image/png": "[encoded data removed]",
      "text/plain": [
       "<Figure size 432x288 with 2 Axes>"
      ]
     },
     "metadata": {
      "needs_background": "light"
     },
     "output_type": "display_data"
    }
   ],
   "source": [
    "# interest_rates in a general country\n",
    "country = 'Portugal'\n",
    "ctr_int_rates = int_rates.groupby('Date')[country].mean()\n",
    "ctr_house_price_indx = data.groupby('Date')[country].mean()\n",
    "\n",
    "fig = plt.figure()\n",
    "ax1 = fig.add_subplot(111)\n",
    "ax1.plot(ctr_house_price_indx)\n",
    "ax1.set_ylabel('House Price Index (HPI)')\n",
    "\n",
    "ax2 = ax1.twinx()\n",
    "ax2.plot(ctr_int_rates, 'r-')\n",
    "ax2.set_ylabel('Interest Rates', color='r')\n",
    "plt.title('House Price Index (HPI) vs Interest Rates in ' + country)\n",
    "plt.show()"
   ]
  },
  {
   "cell_type": "code",
   "execution_count": null,
   "metadata": {},
   "outputs": [],
   "source": []
  }
 ],
 "metadata": {
  "celltoolbar": "Slideshow",
  "kernelspec": {
   "display_name": "Python 3",
   "language": "python",
   "name": "python3"
  },
  "language_info": {
   "codemirror_mode": {
    "name": "ipython",
    "version": 3
   },
   "file_extension": ".py",
   "mimetype": "text/x-python",
   "name": "python",
   "nbconvert_exporter": "python",
   "pygments_lexer": "ipython3",
   "version": "3.5.2"
  }
 },
 "nbformat": 4,
 "nbformat_minor": 2
}
