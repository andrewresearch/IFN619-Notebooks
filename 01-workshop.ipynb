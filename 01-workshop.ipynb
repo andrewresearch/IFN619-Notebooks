{
 "cells": [
  {
   "cell_type": "markdown",
   "metadata": {
    "slideshow": {
     "slide_type": "slide"
    }
   },
   "source": [
    "<div class=\"alert alert-block alert-success\"><h3>IFN619 - Data Analytics for Information Professionals</h4></div>"
   ]
  },
  {
   "cell_type": "markdown",
   "metadata": {
    "slideshow": {
     "slide_type": "-"
    }
   },
   "source": [
    "## Workshop 01 :: Asking the right questions\n",
    "\n",
    "1. Introductions\n",
    "2. Unit Structure and Assessment\n",
    "3. Communication and Slack\n",
    "4. Reflective Journal and GoingOK\n",
    "5. Data Analytics Cycle\n",
    "6. Getting started with Jupyter\n",
    "7. Asking the right questions\n"
   ]
  },
  {
   "cell_type": "markdown",
   "metadata": {
    "slideshow": {
     "slide_type": "slide"
    }
   },
   "source": [
    "### [1] Introductions "
   ]
  },
  {
   "cell_type": "markdown",
   "metadata": {
    "slideshow": {
     "slide_type": "subslide"
    }
   },
   "source": [
    "#### meet the team..."
   ]
  },
  {
   "cell_type": "markdown",
   "metadata": {
    "slideshow": {
     "slide_type": "fragment"
    }
   },
   "source": [
    "- Andrew Gibson (Lecturer, Unit Coorindator)\n",
    "- Catarina Moreira (Lecturer)\n",
    "- Malmi Amadoru (Tutor)"
   ]
  },
  {
   "cell_type": "markdown",
   "metadata": {
    "slideshow": {
     "slide_type": "subslide"
    }
   },
   "source": [
    "#### meet your peers..."
   ]
  },
  {
   "cell_type": "markdown",
   "metadata": {
    "slideshow": {
     "slide_type": "fragment"
    }
   },
   "source": [
    "   - Your name?\n",
    "   - Which course/major?\n",
    "   - Why did you take the unit?\n",
    "   - What do you hope to get out of it?"
   ]
  },
  {
   "cell_type": "markdown",
   "metadata": {
    "slideshow": {
     "slide_type": "slide"
    }
   },
   "source": [
    "### [2] Unit Structure and Assessment\n",
    "\n",
    "- Study Guide - download from Blackboard (Unit details)\n",
    "- Modular\n",
    "- Blended\n",
    "- Maximising for success\n"
   ]
  },
  {
   "cell_type": "markdown",
   "metadata": {
    "slideshow": {
     "slide_type": "slide"
    }
   },
   "source": [
    "### [3] Communication and Slack\n",
    "\n",
    "- Connect to Slack Workspace `qut-infosci-ifn619.slack.com` - signup with link from Blackboard (Learning Materials)\n",
    "- Introduce yourself\n",
    "- Post your ideas and questions for the benefit of everyone\n",
    "- Direct message the teaching team if you have individual concerns"
   ]
  },
  {
   "cell_type": "markdown",
   "metadata": {
    "slideshow": {
     "slide_type": "subslide"
    }
   },
   "source": [
    "#### 5 Scary things\n",
    "\n",
    "- Join the slack `#workshops` channel, and open link [Five Things That Scare Me About AI](https://www.fast.ai/2019/01/29/five-scary-things/?utm_campaign=NLP%20News&utm_medium=email&utm_source=Revue%20newsletter) [(Rachel Thomas)](https://www.fast.ai/about/#rachel)\n",
    "- Pick one scary thing and discuss...\n",
    "    - How real is this?\n",
    "    - How might a data analytics professional have contributed?\n",
    "    - How might a data analytics professional prevent this?\n",
    "    - Put your ideas into a `post` in the channel"
   ]
  },
  {
   "cell_type": "markdown",
   "metadata": {
    "slideshow": {
     "slide_type": "slide"
    }
   },
   "source": [
    "### [4] Reflective Journal and GoingOK\n",
    "\n",
    "- Download `Assessment 1 Task Sheet` from blackboard (Assessment)\n",
    "- Why write a Reflective Journal\n",
    "- Part A and the importance of formative feedback"
   ]
  },
  {
   "cell_type": "markdown",
   "metadata": {
    "slideshow": {
     "slide_type": "subslide"
    }
   },
   "source": [
    "#### Recording as you go\n",
    "\n",
    "- Create a GoingOK account - [http://goingok.infosci-apps.qut.edu.au](http://goingok.infosci-apps.qut.edu.au)\n",
    "- If you already have signed up with `IFN600`, you will need to use a different email address\n",
    "- Benefits of GoingOK\n",
    "- Cohort level feedback\n",
    "- Ongoing research (Reflective Writing Analytics)"
   ]
  },
  {
   "cell_type": "markdown",
   "metadata": {
    "slideshow": {
     "slide_type": "subslide"
    }
   },
   "source": [
    "#### GoingOK - first reflection\n",
    "\n",
    "Thinking back on the 5 scary things exercise, write a reflection in GoingOK...\n",
    "- What are your thoughts and feelings about potential societal issues and data analytics?\n",
    "- What challenges do these issues pose for you in your current/future work?\n",
    "- How might this change you, and how might this unit help? "
   ]
  },
  {
   "cell_type": "markdown",
   "metadata": {
    "slideshow": {
     "slide_type": "slide"
    }
   },
   "source": [
    "### [5] Data Analytics\n",
    "\n",
    "In our approach to data analytics, we will follow a process that requires that we address 5 questions:\n",
    "1. Which is the right question?\n",
    "2. Which is the right data?\n",
    "3. Which is the right analysis?\n",
    "4. Which is the right visualisation?\n",
    "5. Which is the right insight?\n",
    "\n",
    "For this unit, we are concerned with more than just data analytics, we are interested in what is *appropriate, efficous, ethical ...* what is ***right!***"
   ]
  },
  {
   "cell_type": "markdown",
   "metadata": {
    "slideshow": {
     "slide_type": "subslide"
    }
   },
   "source": [
    "#### 1. A starting question\n",
    "\n",
    "Students choose to study for many different reasons. Usually, these reasons are associated with both (a) their history and (b) their imagined future. \n",
    "\n",
    "*Which questions might give us insight into students of IFN619 and their reasons for studying?* \n",
    "\n",
    "- **One example:** ***Which fields are IFN619 students most interested in?***\n",
    "\n",
    "**DISCUSSION:** What are some other possible questions?"
   ]
  },
  {
   "cell_type": "markdown",
   "metadata": {
    "slideshow": {
     "slide_type": "subslide"
    }
   },
   "source": [
    "#### 2. Some relevant data"
   ]
  },
  {
   "cell_type": "code",
   "execution_count": 46,
   "metadata": {
    "scrolled": true,
    "slideshow": {
     "slide_type": "fragment"
    }
   },
   "outputs": [
    {
     "name": "stdout",
     "output_type": "stream",
     "text": [
      "stud_num\n",
      "course_code\n",
      "major_code\n",
      "Unnamed: 3\n",
      "Unnamed: 4\n"
     ]
    }
   ],
   "source": [
    "# import a Python library for working with tabular data\n",
    "import pandas as pd\n",
    "\n",
    "# read our data into a dataframe variable (df)\n",
    "df = pd.read_csv('data/ifn619_info_190226.csv') \n",
    "\n",
    "# print out the column headings\n",
    "for heading in df.columns:\n",
    "    print(heading)"
   ]
  },
  {
   "cell_type": "markdown",
   "metadata": {
    "slideshow": {
     "slide_type": "fragment"
    }
   },
   "source": [
    "**DISCUSSION:** How relevant is the data, what are some potential issues?"
   ]
  },
  {
   "cell_type": "markdown",
   "metadata": {
    "slideshow": {
     "slide_type": "subslide"
    }
   },
   "source": [
    "#### 3. Analysing the data\n",
    "\n",
    "We can explore the data, asking questions like *how many students are there?*"
   ]
  },
  {
   "cell_type": "code",
   "execution_count": 47,
   "metadata": {
    "slideshow": {
     "slide_type": "fragment"
    }
   },
   "outputs": [
    {
     "data": {
      "text/plain": [
       "(61, 5)"
      ]
     },
     "execution_count": 47,
     "metadata": {},
     "output_type": "execute_result"
    }
   ],
   "source": [
    "# The dimensional shape of the dataframe\n",
    "df.shape"
   ]
  },
  {
   "cell_type": "code",
   "execution_count": 48,
   "metadata": {
    "slideshow": {
     "slide_type": "-"
    }
   },
   "outputs": [
    {
     "data": {
      "text/plain": [
       "61"
      ]
     },
     "execution_count": 48,
     "metadata": {},
     "output_type": "execute_result"
    }
   ],
   "source": [
    "#We only want the number of rows\n",
    "df.shape[0]"
   ]
  },
  {
   "cell_type": "code",
   "execution_count": 49,
   "metadata": {
    "slideshow": {
     "slide_type": "-"
    }
   },
   "outputs": [
    {
     "name": "stdout",
     "output_type": "stream",
     "text": [
      "There are 61 students represented in the data\n"
     ]
    }
   ],
   "source": [
    "print(\"There are {} students represented in the data\".format(df.shape[0]))"
   ]
  },
  {
   "cell_type": "markdown",
   "metadata": {
    "slideshow": {
     "slide_type": "fragment"
    }
   },
   "source": [
    "**DISCUSSION:** Why might this question be important?"
   ]
  },
  {
   "cell_type": "markdown",
   "metadata": {
    "slideshow": {
     "slide_type": "subslide"
    }
   },
   "source": [
    "How can we address our original question: Which fields are IFN619 students most interested in?\n",
    "\n",
    "Perhaps, the course code?"
   ]
  },
  {
   "cell_type": "code",
   "execution_count": 50,
   "metadata": {
    "slideshow": {
     "slide_type": "fragment"
    }
   },
   "outputs": [
    {
     "data": {
      "text/plain": [
       "array(['IN10', 'IN20', 'IN21', 'IN23', 'IN26', 'IN27', 'U082', 'U094'],\n",
       "      dtype=object)"
      ]
     },
     "execution_count": 50,
     "metadata": {},
     "output_type": "execute_result"
    }
   ],
   "source": [
    "df.course_code.unique()"
   ]
  },
  {
   "cell_type": "markdown",
   "metadata": {
    "slideshow": {
     "slide_type": "subslide"
    }
   },
   "source": [
    "But perhaps what is more useful is to know how many students are from each course..."
   ]
  },
  {
   "cell_type": "code",
   "execution_count": 51,
   "metadata": {
    "scrolled": true,
    "slideshow": {
     "slide_type": "fragment"
    }
   },
   "outputs": [
    {
     "data": {
      "text/plain": [
       "course_code\n",
       "IN10     1\n",
       "IN20     7\n",
       "IN21    11\n",
       "IN23     2\n",
       "IN26    16\n",
       "IN27    21\n",
       "U082     2\n",
       "U094     1\n",
       "Name: stud_num, dtype: int64"
      ]
     },
     "execution_count": 51,
     "metadata": {},
     "output_type": "execute_result"
    }
   ],
   "source": [
    "course_counts = df.groupby('course_code')['stud_num'].count()\n",
    "course_counts"
   ]
  },
  {
   "cell_type": "markdown",
   "metadata": {
    "slideshow": {
     "slide_type": "subslide"
    }
   },
   "source": [
    "What about the major code?"
   ]
  },
  {
   "cell_type": "code",
   "execution_count": 52,
   "metadata": {
    "slideshow": {
     "slide_type": "fragment"
    }
   },
   "outputs": [
    {
     "data": {
      "text/plain": [
       "array([' ', 'IN20MJR-BUSPMGT', 'IN20MJR-INFOMGT', 'IN20MJR-NETWORK',\n",
       "       'IN20MJR-DATASC', 'IN20MJR-USEREXP', 'IN20MJR-COMPSC',\n",
       "       'IN20MJR-ENTSYS'], dtype=object)"
      ]
     },
     "execution_count": 52,
     "metadata": {},
     "output_type": "execute_result"
    }
   ],
   "source": [
    "df.major_code.unique()"
   ]
  },
  {
   "cell_type": "code",
   "execution_count": 53,
   "metadata": {
    "scrolled": true,
    "slideshow": {
     "slide_type": "fragment"
    }
   },
   "outputs": [
    {
     "data": {
      "text/plain": [
       "major_code\n",
       "                   43\n",
       "IN20MJR-BUSPMGT     4\n",
       "IN20MJR-COMPSC      2\n",
       "IN20MJR-DATASC      2\n",
       "IN20MJR-ENTSYS      2\n",
       "IN20MJR-INFOMGT     5\n",
       "IN20MJR-NETWORK     1\n",
       "IN20MJR-USEREXP     2\n",
       "Name: stud_num, dtype: int64"
      ]
     },
     "execution_count": 53,
     "metadata": {},
     "output_type": "execute_result"
    }
   ],
   "source": [
    "major_counts = df.groupby('major_code')['stud_num'].count()\n",
    "major_counts"
   ]
  },
  {
   "cell_type": "markdown",
   "metadata": {
    "slideshow": {
     "slide_type": "fragment"
    }
   },
   "source": [
    "**DISCUSSION:** What is the problem with our analysis?"
   ]
  },
  {
   "cell_type": "markdown",
   "metadata": {
    "slideshow": {
     "slide_type": "subslide"
    }
   },
   "source": [
    "#### 4. Visualising the results\n",
    "\n",
    "Visualising our results can help us see features that are difficult to see in raw numbers. Visualisation can also help others understand our results."
   ]
  },
  {
   "cell_type": "code",
   "execution_count": 54,
   "metadata": {
    "slideshow": {
     "slide_type": "fragment"
    }
   },
   "outputs": [
    {
     "data": {
      "image/png": "[encoded data removed]",
      "text/plain": [
       "<Figure size 432x288 with 1 Axes>"
      ]
     },
     "metadata": {
      "needs_background": "light"
     },
     "output_type": "display_data"
    }
   ],
   "source": [
    "import matplotlib.pyplot as plt\n",
    "course_counts.plot(kind=\"bar\")\n",
    "plt.show()"
   ]
  },
  {
   "cell_type": "code",
   "execution_count": 55,
   "metadata": {
    "slideshow": {
     "slide_type": "subslide"
    }
   },
   "outputs": [
    {
     "data": {
      "image/png": "[encoded data removed]",
      "text/plain": [
       "<Figure size 432x288 with 1 Axes>"
      ]
     },
     "metadata": {
      "needs_background": "light"
     },
     "output_type": "display_data"
    }
   ],
   "source": [
    "major_counts.plot(kind=\"bar\")\n",
    "plt.show()"
   ]
  },
  {
   "cell_type": "markdown",
   "metadata": {
    "slideshow": {
     "slide_type": "fragment"
    }
   },
   "source": [
    "**DISCUSSION:** What are the problem with these visualisations? How can these problems be fixed?"
   ]
  },
  {
   "cell_type": "code",
   "execution_count": 56,
   "metadata": {
    "scrolled": true,
    "slideshow": {
     "slide_type": "subslide"
    }
   },
   "outputs": [
    {
     "data": {
      "text/html": [
       "<div>\n",
       "<style scoped>\n",
       "    .dataframe tbody tr th:only-of-type {\n",
       "        vertical-align: middle;\n",
       "    }\n",
       "\n",
       "    .dataframe tbody tr th {\n",
       "        vertical-align: top;\n",
       "    }\n",
       "\n",
       "    .dataframe thead th {\n",
       "        text-align: right;\n",
       "    }\n",
       "</style>\n",
       "<table border=\"1\" class=\"dataframe\">\n",
       "  <thead>\n",
       "    <tr style=\"text-align: right;\">\n",
       "      <th></th>\n",
       "      <th>stud_num</th>\n",
       "      <th>course_code</th>\n",
       "      <th>major_code</th>\n",
       "      <th>Unnamed: 3</th>\n",
       "      <th>Unnamed: 4</th>\n",
       "    </tr>\n",
       "  </thead>\n",
       "  <tbody>\n",
       "    <tr>\n",
       "      <th>1</th>\n",
       "      <td>2</td>\n",
       "      <td>IN20</td>\n",
       "      <td>IN20MJR-BUSPMGT</td>\n",
       "      <td></td>\n",
       "      <td></td>\n",
       "    </tr>\n",
       "    <tr>\n",
       "      <th>2</th>\n",
       "      <td>3</td>\n",
       "      <td>IN20</td>\n",
       "      <td>IN20MJR-BUSPMGT</td>\n",
       "      <td></td>\n",
       "      <td></td>\n",
       "    </tr>\n",
       "    <tr>\n",
       "      <th>3</th>\n",
       "      <td>4</td>\n",
       "      <td>IN20</td>\n",
       "      <td>IN20MJR-INFOMGT</td>\n",
       "      <td></td>\n",
       "      <td></td>\n",
       "    </tr>\n",
       "    <tr>\n",
       "      <th>4</th>\n",
       "      <td>5</td>\n",
       "      <td>IN20</td>\n",
       "      <td>IN20MJR-BUSPMGT</td>\n",
       "      <td></td>\n",
       "      <td></td>\n",
       "    </tr>\n",
       "    <tr>\n",
       "      <th>5</th>\n",
       "      <td>6</td>\n",
       "      <td>IN20</td>\n",
       "      <td>IN20MJR-INFOMGT</td>\n",
       "      <td></td>\n",
       "      <td></td>\n",
       "    </tr>\n",
       "    <tr>\n",
       "      <th>6</th>\n",
       "      <td>7</td>\n",
       "      <td>IN20</td>\n",
       "      <td>IN20MJR-INFOMGT</td>\n",
       "      <td></td>\n",
       "      <td></td>\n",
       "    </tr>\n",
       "    <tr>\n",
       "      <th>7</th>\n",
       "      <td>8</td>\n",
       "      <td>IN20</td>\n",
       "      <td>IN20MJR-BUSPMGT</td>\n",
       "      <td></td>\n",
       "      <td></td>\n",
       "    </tr>\n",
       "    <tr>\n",
       "      <th>8</th>\n",
       "      <td>9</td>\n",
       "      <td>IN21</td>\n",
       "      <td>IN20MJR-NETWORK</td>\n",
       "      <td></td>\n",
       "      <td></td>\n",
       "    </tr>\n",
       "    <tr>\n",
       "      <th>9</th>\n",
       "      <td>10</td>\n",
       "      <td>IN21</td>\n",
       "      <td>IN20MJR-DATASC</td>\n",
       "      <td></td>\n",
       "      <td></td>\n",
       "    </tr>\n",
       "    <tr>\n",
       "      <th>10</th>\n",
       "      <td>11</td>\n",
       "      <td>IN21</td>\n",
       "      <td>IN20MJR-INFOMGT</td>\n",
       "      <td></td>\n",
       "      <td></td>\n",
       "    </tr>\n",
       "    <tr>\n",
       "      <th>11</th>\n",
       "      <td>12</td>\n",
       "      <td>IN21</td>\n",
       "      <td>IN20MJR-USEREXP</td>\n",
       "      <td></td>\n",
       "      <td></td>\n",
       "    </tr>\n",
       "    <tr>\n",
       "      <th>12</th>\n",
       "      <td>13</td>\n",
       "      <td>IN21</td>\n",
       "      <td>IN20MJR-USEREXP</td>\n",
       "      <td></td>\n",
       "      <td></td>\n",
       "    </tr>\n",
       "    <tr>\n",
       "      <th>13</th>\n",
       "      <td>14</td>\n",
       "      <td>IN21</td>\n",
       "      <td>IN20MJR-COMPSC</td>\n",
       "      <td></td>\n",
       "      <td></td>\n",
       "    </tr>\n",
       "    <tr>\n",
       "      <th>14</th>\n",
       "      <td>15</td>\n",
       "      <td>IN21</td>\n",
       "      <td>IN20MJR-ENTSYS</td>\n",
       "      <td></td>\n",
       "      <td></td>\n",
       "    </tr>\n",
       "    <tr>\n",
       "      <th>15</th>\n",
       "      <td>16</td>\n",
       "      <td>IN21</td>\n",
       "      <td>IN20MJR-ENTSYS</td>\n",
       "      <td></td>\n",
       "      <td></td>\n",
       "    </tr>\n",
       "    <tr>\n",
       "      <th>16</th>\n",
       "      <td>17</td>\n",
       "      <td>IN21</td>\n",
       "      <td>IN20MJR-INFOMGT</td>\n",
       "      <td></td>\n",
       "      <td></td>\n",
       "    </tr>\n",
       "    <tr>\n",
       "      <th>17</th>\n",
       "      <td>18</td>\n",
       "      <td>IN21</td>\n",
       "      <td>IN20MJR-DATASC</td>\n",
       "      <td></td>\n",
       "      <td></td>\n",
       "    </tr>\n",
       "    <tr>\n",
       "      <th>18</th>\n",
       "      <td>19</td>\n",
       "      <td>IN21</td>\n",
       "      <td>IN20MJR-COMPSC</td>\n",
       "      <td></td>\n",
       "      <td></td>\n",
       "    </tr>\n",
       "  </tbody>\n",
       "</table>\n",
       "</div>"
      ],
      "text/plain": [
       "    stud_num course_code       major_code Unnamed: 3 Unnamed: 4\n",
       "1          2        IN20  IN20MJR-BUSPMGT                      \n",
       "2          3        IN20  IN20MJR-BUSPMGT                      \n",
       "3          4        IN20  IN20MJR-INFOMGT                      \n",
       "4          5        IN20  IN20MJR-BUSPMGT                      \n",
       "5          6        IN20  IN20MJR-INFOMGT                      \n",
       "6          7        IN20  IN20MJR-INFOMGT                      \n",
       "7          8        IN20  IN20MJR-BUSPMGT                      \n",
       "8          9        IN21  IN20MJR-NETWORK                      \n",
       "9         10        IN21   IN20MJR-DATASC                      \n",
       "10        11        IN21  IN20MJR-INFOMGT                      \n",
       "11        12        IN21  IN20MJR-USEREXP                      \n",
       "12        13        IN21  IN20MJR-USEREXP                      \n",
       "13        14        IN21   IN20MJR-COMPSC                      \n",
       "14        15        IN21   IN20MJR-ENTSYS                      \n",
       "15        16        IN21   IN20MJR-ENTSYS                      \n",
       "16        17        IN21  IN20MJR-INFOMGT                      \n",
       "17        18        IN21   IN20MJR-DATASC                      \n",
       "18        19        IN21   IN20MJR-COMPSC                      "
      ]
     },
     "execution_count": 56,
     "metadata": {},
     "output_type": "execute_result"
    }
   ],
   "source": [
    "new_df = df[df['major_code'].str.contains('\\S', regex=True)]\n",
    "new_df"
   ]
  },
  {
   "cell_type": "code",
   "execution_count": 57,
   "metadata": {
    "slideshow": {
     "slide_type": "subslide"
    }
   },
   "outputs": [
    {
     "data": {
      "image/png": "[encoded data removed]",
      "text/plain": [
       "<Figure size 432x288 with 1 Axes>"
      ]
     },
     "metadata": {
      "needs_background": "light"
     },
     "output_type": "display_data"
    }
   ],
   "source": [
    "only_major_counts = new_df.groupby('major_code')['stud_num'].count()\n",
    "only_major_counts.plot(kind=\"bar\")\n",
    "plt.show()"
   ]
  },
  {
   "cell_type": "markdown",
   "metadata": {
    "slideshow": {
     "slide_type": "subslide"
    }
   },
   "source": [
    "#### 5. Insight\n",
    "\n",
    "To actually make our analytics insightful, we need to present it in a way that makes the analysis meaningful to people."
   ]
  },
  {
   "cell_type": "code",
   "execution_count": 58,
   "metadata": {
    "slideshow": {
     "slide_type": "fragment"
    }
   },
   "outputs": [
    {
     "data": {
      "image/png": "[encoded data removed]",
      "text/plain": [
       "<Figure size 432x288 with 1 Axes>"
      ]
     },
     "metadata": {
      "needs_background": "light"
     },
     "output_type": "display_data"
    }
   ],
   "source": [
    "chartTitle=\"Number of IFN619 students per major\"\n",
    "yaxisLabel=\"number of students\"\n",
    "only_major_counts.plot.bar(ax=plt.axes(title=chartTitle,ylabel = yaxisLabel,xlabel = xaxisLabel))\n",
    "plt.show()"
   ]
  },
  {
   "cell_type": "markdown",
   "metadata": {
    "slideshow": {
     "slide_type": "fragment"
    }
   },
   "source": [
    "**DISCUSSION:** Is this sufficient for insight? What else is needed for insight?"
   ]
  },
  {
   "cell_type": "code",
   "execution_count": 59,
   "metadata": {
    "slideshow": {
     "slide_type": "subslide"
    }
   },
   "outputs": [
    {
     "name": "stdout",
     "output_type": "stream",
     "text": [
      "Only 18 of a total 61 students have a major. This represents only 29.51% of the population.\n"
     ]
    }
   ],
   "source": [
    "studs_with_major = only_major_counts.sum()\n",
    "total_studs = df.shape[0]\n",
    "ratio = studs_with_major/total_studs\n",
    "sent = \"Only {} of a total {} students have a major. This represents only {:.2%} of the population.\"\n",
    "print(sent.format(studs_with_major,total_studs,ratio))"
   ]
  },
  {
   "cell_type": "markdown",
   "metadata": {
    "slideshow": {
     "slide_type": "fragment"
    }
   },
   "source": [
    "**DISCUSSION:** \n",
    "- Is this enough?\n",
    "- What can we say about the original question?\n",
    "- Think back to the issues raised in the discussion - How do they compound over the course of the analytics?\n",
    "- What is the end result for the insight?"
   ]
  },
  {
   "cell_type": "markdown",
   "metadata": {
    "slideshow": {
     "slide_type": "fragment"
    }
   },
   "source": [
    "**REFLECT:** Write a short reflection on your personal thoughts about the discussions so far."
   ]
  },
  {
   "cell_type": "markdown",
   "metadata": {
    "slideshow": {
     "slide_type": "slide"
    }
   },
   "source": [
    "### [6] Getting started with Jupyter\n",
    "- Create a GitHub account (if you don't have one)\n",
    "- Login to Jupyter - [http://jupyter.infosci-apps.qut.edu.au](http://jupyter.infosci-apps.qut.edu.au)\n",
    "- Click the link in Blackboard to sync the workshop materials to your Jupyter accounts"
   ]
  },
  {
   "cell_type": "markdown",
   "metadata": {
    "slideshow": {
     "slide_type": "subslide"
    }
   },
   "source": [
    "Notebooks have 2 main types of cells - `Markdown` cells for displaying content like a web page, and `Code` cells for running code (in our case Python code) and displaying the results. In this practical session we will explore both of these types of cells and how they work together for a complete analytics process.\n",
    "\n",
    "Before moving on to the tasks, familiarise yourself with the menus above, and in particular the keyboard short cuts (click the keyboard icon) for `run cell and insert below`, `run cell and select next`, changing between `command` and `edit` modes, and changing between `Code` and `Markdown` cell types.\n",
    "\n",
    "---"
   ]
  },
  {
   "cell_type": "markdown",
   "metadata": {
    "slideshow": {
     "slide_type": "subslide"
    }
   },
   "source": [
    "#### Basic Markdown\n",
    "\n",
    "Open this [link on markdown cells](http://nbviewer.jupyter.org/github/ipython/ipython/blob/3.x/examples/Notebook/Working%20With%20Markdown%20Cells.ipynb) in a new tab or window, and read what is possible to do in a markdown cell. Click the `</>` symbol on the top right of the page to view the markdown code that is used to create the markdown.\n",
    "\n",
    "Try creating the following markdown elements. Create a new markdown cell for each element:\n",
    "1. Headings - 3 different levels. Then give each subsequent element a heading\n",
    "2. Plain text, italics and bold text, and a horizontal line. Then put a line between each element.\n",
    "3. A numbered list of your 3 favourite bands/musicians, with sublists of a couple of their albums \n",
    "4. A bulleted list of your 3 favourite movies, with sublists of characters in each.\n",
    "\n",
    "\n",
    "---"
   ]
  },
  {
   "cell_type": "markdown",
   "metadata": {
    "slideshow": {
     "slide_type": "subslide"
    }
   },
   "source": [
    "5. A table with your movies above, your favourite character and the actor who plays the character.\n",
    "6. A quote from a web page, and a link to the original webpage\n",
    "7. A code block that demonstrates printing your name\n",
    "8. An inline maths equation for a quadratic equation - f of x equals ax squared plus bx plus c (between some text)"
   ]
  },
  {
   "cell_type": "markdown",
   "metadata": {
    "slideshow": {
     "slide_type": "subslide"
    }
   },
   "source": [
    "#### Basic Python\n",
    "\n",
    "Open this [link on introductory Python](https://docs.python.org/3.6/tutorial/introduction.html) in a new tab or window, and read about some basic Python.\n",
    "\n",
    "Try running Python code for the following tasks. Create a new `Code` cell for each task. \n",
    "\n",
    "1. Code comments. Include one at the start of the cell and another beside `answer = 42` that tells the reader that it is the answer to life, the universe and everything.\n",
    "2. Calculate the number hours in a week. Assign this to a variable `hoursInWeek`, and then calculate the number of hours in a 13 week semester. Comment what you are doing.\n",
    "3. Create a 2 line string using newline and print it out.\n",
    "4. Create a 3 line string using triple quotes and print it out."
   ]
  },
  {
   "cell_type": "markdown",
   "metadata": {},
   "source": [
    "5. Print out `Data Analytics for Business Insight` concatenated from 4 parts.\n",
    "6. Assign `IAB303 Data Analytics for Business Insight` to a variable `unit` and then extract the unit code separated to the unit name and print them out as `Data Analytics for Business Insight (IAB303)`.\n",
    "7. Check that the unit code is 6 characters long.\n",
    "8. Add your movies from the markdown task to a list, then use a while loop to print each element of the list out on a separate line."
   ]
  },
  {
   "cell_type": "markdown",
   "metadata": {
    "slideshow": {
     "slide_type": "slide"
    }
   },
   "source": [
    "### [7] Asking the right questions\n",
    "\n",
    "- Not just about the analytics, more about asking the right questions\n",
    "- Try the business analytics excercise at home"
   ]
  }
 ],
 "metadata": {
  "celltoolbar": "Slideshow",
  "kernelspec": {
   "display_name": "Python 3",
   "language": "python",
   "name": "python3"
  },
  "language_info": {
   "codemirror_mode": {
    "name": "ipython",
    "version": 3
   },
   "file_extension": ".py",
   "mimetype": "text/x-python",
   "name": "python",
   "nbconvert_exporter": "python",
   "pygments_lexer": "ipython3",
   "version": "3.6.7"
  }
 },
 "nbformat": 4,
 "nbformat_minor": 2
}
