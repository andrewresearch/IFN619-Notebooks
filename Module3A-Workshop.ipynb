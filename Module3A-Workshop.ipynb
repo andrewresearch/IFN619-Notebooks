{
 "cells": [
  {
   "cell_type": "markdown",
   "metadata": {
    "slideshow": {
     "slide_type": "slide"
    }
   },
   "source": [
    "## Coming up\n",
    "\n",
    "- Assessment 3\n",
    "- Explore a problem in depth (2 options)\n",
    "    1. Critical Depth\n",
    "    2. Technical Depth"
   ]
  },
  {
   "cell_type": "markdown",
   "metadata": {
    "slideshow": {
     "slide_type": "subslide"
    }
   },
   "source": [
    "## Module 3\n",
    "\n",
    "**3A - Data Analytics in Context** (week 9)\n",
    "\n",
    "**3B - Additional Modelling Techniques** (week 10)"
   ]
  },
  {
   "cell_type": "markdown",
   "metadata": {
    "slideshow": {
     "slide_type": "slide"
    }
   },
   "source": [
    "# Data Analytics in Context\n",
    "\n",
    "1. Issues\n",
    "2. Trust\n",
    "3. Principles\n",
    "4. Personal"
   ]
  },
  {
   "cell_type": "markdown",
   "metadata": {
    "slideshow": {
     "slide_type": "slide"
    }
   },
   "source": [
    "## [1] Issues"
   ]
  },
  {
   "cell_type": "markdown",
   "metadata": {
    "slideshow": {
     "slide_type": "fragment"
    }
   },
   "source": [
    "### PMI Example\n",
    "\n",
    "[Automated Inference on Criminality using Face Images](https://arxiv.org/pdf/1611.04135v2.pdf)\n",
    "\n",
    "Record Plus, Minus, Interesting on [Slack](https://qut-infosci-ifn619.slack.com) channel `#workshop-3a`\n",
    "            "
   ]
  },
  {
   "cell_type": "markdown",
   "metadata": {
    "slideshow": {
     "slide_type": "subslide"
    }
   },
   "source": [
    "### PMI-1\n",
    "\n",
    "[Amazon’s system for tracking its warehouse workers can automatically fire them (Apr 26)](https://www.technologyreview.com/f/613434/amazons-system-for-tracking-its-warehouse-workers-can-automatically-fire-them/)\n"
   ]
  },
  {
   "cell_type": "markdown",
   "metadata": {
    "slideshow": {
     "slide_type": "subslide"
    }
   },
   "source": [
    "### PMI-2\n",
    "\n",
    "[One Month, 500,000 Face Scans: How China Is Using A.I. to Profile a Minority (Apr 14)](https://www.nytimes.com/2019/04/14/technology/china-surveillance-artificial-intelligence-racial-profiling.html)"
   ]
  },
  {
   "cell_type": "markdown",
   "metadata": {
    "slideshow": {
     "slide_type": "subslide"
    }
   },
   "source": [
    "### PMI-3\n",
    "[Amazon staff listen to customers' Alexa recordings, report says (11 Apr)](https://www.theguardian.com/technology/2019/apr/11/amazon-staff-listen-to-customers-alexa-recordings-report-says)\n"
   ]
  },
  {
   "cell_type": "markdown",
   "metadata": {
    "slideshow": {
     "slide_type": "subslide"
    }
   },
   "source": [
    "### PMI-4\n",
    "\n",
    "[Are you being scanned? How facial recognition technology follows you, even as you shop (Feb 24)](https://www.theguardian.com/technology/2019/feb/24/are-you-being-scanned-how-facial-recognition-technology-follows-you-even-as-you-shop)"
   ]
  },
  {
   "cell_type": "markdown",
   "metadata": {
    "slideshow": {
     "slide_type": "subslide"
    }
   },
   "source": [
    "### PMI-5\n",
    "\n",
    "[Five-Eyes nations to force encryption backdoors](https://www.itnews.com.au/news/five-eyes-nations-to-force-encryption-backdoors-511865)"
   ]
  },
  {
   "cell_type": "markdown",
   "metadata": {
    "slideshow": {
     "slide_type": "subslide"
    }
   },
   "source": [
    "### PMI-6\n",
    "\n",
    "[How big data for DNA puts you at risk — even if you’ve never taken a test](https://www.theverge.com/2019/4/16/18312048/dna-testing-genetic-privacy-data-at-home-family-tree-golden-state-killer-crime)"
   ]
  },
  {
   "cell_type": "markdown",
   "metadata": {
    "slideshow": {
     "slide_type": "slide"
    }
   },
   "source": [
    "## [2] Trust"
   ]
  },
  {
   "cell_type": "markdown",
   "metadata": {
    "slideshow": {
     "slide_type": "fragment"
    }
   },
   "source": [
    "#### Why should I care?\n",
    "\n",
    "[Airbnb Careers - Data Scientist - Analytics, Trust: Identity](https://careers.airbnb.com/positions/1000651/)\n",
    "\n",
    "[ATO - How we use data and analytics](https://www.ato.gov.au/about-ato/managing-the-tax-and-super-system/insight--building-trust-and-confidence/how-we-use-data-and-analytics/)"
   ]
  },
  {
   "cell_type": "markdown",
   "metadata": {
    "slideshow": {
     "slide_type": "subslide"
    }
   },
   "source": [
    "### KP-1\n",
    "\n",
    "[EY: Trust in data and why it matters](https://www.ey.com/Publication/vwLUAssets/ey-trust-in-data-and-why-it-matters/$FILE/ey-trust-in-data-and-why-it-matters.pdf)"
   ]
  },
  {
   "cell_type": "markdown",
   "metadata": {
    "slideshow": {
     "slide_type": "subslide"
    }
   },
   "source": [
    "### KP-2\n",
    "\n",
    "[KPMG: Building trust in analytics](https://assets.kpmg/content/dam/kpmg/xx/pdf/2016/10/building-trust-in-analytics.pdf)"
   ]
  },
  {
   "cell_type": "markdown",
   "metadata": {
    "slideshow": {
     "slide_type": "subslide"
    }
   },
   "source": [
    "### KP-3\n",
    "\n",
    "[Accenture: Building Digital Trust: The Role of Data Ethics in the Digital Age](https://www.accenture.com/au-en/insight-data-ethics)"
   ]
  },
  {
   "cell_type": "markdown",
   "metadata": {
    "slideshow": {
     "slide_type": "slide"
    }
   },
   "source": [
    "## [3] Principles"
   ]
  },
  {
   "cell_type": "markdown",
   "metadata": {
    "slideshow": {
     "slide_type": "subslide"
    }
   },
   "source": [
    "**Contextual Integrity**\n",
    "\n",
    "[Respecting Context to Protect Privacy: Why Meaning Matters](https://nissenbaum.tech.cornell.edu/papers/Respecting%20Context%20to%20Protect%20Privacy%20Why%20Meaning%20Matters.pdf)"
   ]
  },
  {
   "cell_type": "markdown",
   "metadata": {
    "slideshow": {
     "slide_type": "subslide"
    }
   },
   "source": [
    "**Bias Awareness**\n",
    "\n",
    "[Text Embedding Models Contain Bias. Here's Why That Matters.](https://developers.googleblog.com/2018/04/text-embedding-models-contain-bias.html?m=1)"
   ]
  },
  {
   "cell_type": "markdown",
   "metadata": {
    "slideshow": {
     "slide_type": "subslide"
    }
   },
   "source": [
    "#### Bias Identification\n",
    "\n",
    "[Assessing and Addressing Algorithmic Bias in Practice](http://interactions.acm.org/archive/view/november-december-2018/assessing-and-addressing-algorithmic-bias-in-practice)\n",
    "\n",
    "[PDF](http://delivery.acm.org/10.1145/3280000/3278156/p58-cramer.pdf)\n"
   ]
  },
  {
   "cell_type": "markdown",
   "metadata": {
    "slideshow": {
     "slide_type": "subslide"
    }
   },
   "source": [
    "**Privacy Regulation**\n",
    "\n",
    "[GDPR](https://digitalguardian.com/blog/what-does-gdpr-mean-global-data-protection-infographic)"
   ]
  },
  {
   "cell_type": "markdown",
   "metadata": {
    "slideshow": {
     "slide_type": "subslide"
    }
   },
   "source": [
    "#### Unconditional Counterfactual Explanations\n",
    "\n",
    "[COUNTERFACTUAL EXPLANATIONS WITHOUT OPENING THE BLACK BOX: AUTOMATED DECISIONS AND THE GDPR](https://arxiv.org/pdf/1711.00399.pdf)"
   ]
  },
  {
   "cell_type": "markdown",
   "metadata": {
    "slideshow": {
     "slide_type": "subslide"
    }
   },
   "source": [
    "#### Fairness traps\n",
    "\n",
    "[Fairness and Abstraction in Sociotechnical Systems](https://dl.acm.org/citation.cfm?id=3287598)"
   ]
  },
  {
   "cell_type": "markdown",
   "metadata": {
    "slideshow": {
     "slide_type": "subslide"
    }
   },
   "source": [
    "#### Data Sharing\n",
    "\n",
    "[Beyond Open vs. Closed: Balancing Individual Privacy and Public Accountability in Data Sharing](https://dl.acm.org/citation.cfm?id=3287577)"
   ]
  },
  {
   "cell_type": "markdown",
   "metadata": {
    "slideshow": {
     "slide_type": "subslide"
    }
   },
   "source": [
    "#### Moral Compass\n",
    "\n",
    "[Designing a Moral Compass for the Future of Computer Vision using Speculative Analysis](http://openaccess.thecvf.com/content_cvpr_2017_workshops/w16/html/Yeh_Designing_a_Moral_CVPR_2017_paper.html)"
   ]
  },
  {
   "cell_type": "markdown",
   "metadata": {
    "slideshow": {
     "slide_type": "slide"
    }
   },
   "source": [
    "## [4] Personal"
   ]
  },
  {
   "cell_type": "markdown",
   "metadata": {
    "slideshow": {
     "slide_type": "subslide"
    }
   },
   "source": [
    "#### Reflect: Where do I draw the line?\n",
    "\n",
    "**HEALTH** \n",
    "- Predict societal health burden due to refusal to take common-sense action (e.g. avoiding poor diet, quitting smoking)\n",
    "- Classify individual as low risk, moderate risk, high risk of increasing societal health burden\n",
    "- Incentivise low risk, remediate moderate risk, and disincentivise high risk\n",
    "- Reduce costs to tax payer, by targeting tax dollars to those active in improving health\n",
    "    \n",
    "[Big data hurdles in precision medicine and precision public health](https://bmcmedinformdecismak.biomedcentral.com/articles/10.1186/s12911-018-0719-2)\n",
    "\n",
    "\n",
    "\n"
   ]
  },
  {
   "cell_type": "markdown",
   "metadata": {
    "slideshow": {
     "slide_type": "subslide"
    }
   },
   "source": [
    "#### Reflect: Where do I draw the line?\n",
    "\n",
    "**EDUCATION** \n",
    "- Predict course fit and liklihood of success to reduce costs of unsuccessful study \n",
    "- Determine assessment features that best align with course success predictions\n",
    "- All assessment computationally graded on assessment features to ensure objectivity\n",
    "- Classification of progress, remediate, and terminate enrolment\n",
    "    \n",
    "[Automated Predictive Assessment from Unstructured Student Writing](http://citeseerx.ist.psu.edu/viewdoc/download?doi=10.1.1.850.4181&rep=rep1&type=pdf)    "
   ]
  }
 ],
 "metadata": {
  "celltoolbar": "Slideshow",
  "kernelspec": {
   "display_name": "Python 3",
   "language": "python",
   "name": "python3"
  },
  "language_info": {
   "codemirror_mode": {
    "name": "ipython",
    "version": 3
   },
   "file_extension": ".py",
   "mimetype": "text/x-python",
   "name": "python",
   "nbconvert_exporter": "python",
   "pygments_lexer": "ipython3",
   "version": "3.5.2"
  }
 },
 "nbformat": 4,
 "nbformat_minor": 2
}
