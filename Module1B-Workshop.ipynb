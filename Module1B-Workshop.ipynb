{
 "cells": [
  {
   "cell_type": "markdown",
   "metadata": {
    "slideshow": {
     "slide_type": "skip"
    }
   },
   "source": [
    "<div class=\"alert alert-block alert-success\"><h3>IFN619 - Data Analytics for Information Professionals</h4></div>"
   ]
  },
  {
   "cell_type": "markdown",
   "metadata": {
    "slideshow": {
     "slide_type": "slide"
    }
   },
   "source": [
    "## Module 1B Workshop :: Data Wrangling from APIs\n",
    "\n",
    "1. From unstructured to structured\n",
    "2. Sourcing from APIs\n",
    "3. Analysing with APIs\n",
    "4. 30 min hackathon"
   ]
  },
  {
   "cell_type": "markdown",
   "metadata": {
    "slideshow": {
     "slide_type": "slide"
    }
   },
   "source": [
    "### [1] From unstructured to structured\n",
    "\n",
    "- What is structured data?\n",
    "- What is unstructured data?\n",
    "- What is semi-structured data?"
   ]
  },
  {
   "cell_type": "markdown",
   "metadata": {
    "slideshow": {
     "slide_type": "subslide"
    }
   },
   "source": [
    "With the following code, we transform unstructured data into structured data.\n",
    "\n",
    "But first, load the libraries used in this notebook..."
   ]
  },
  {
   "cell_type": "code",
   "execution_count": null,
   "metadata": {
    "slideshow": {
     "slide_type": "fragment"
    }
   },
   "outputs": [],
   "source": [
    "# Libraries used by this notebook\n",
    "from urllib import request, response\n",
    "from IPython.core.display import display, HTML\n",
    "from IPython.display import IFrame \n",
    "from collections import namedtuple\n",
    "import json\n",
    "import re\n",
    "from urllib import request, response\n",
    "import pandas as pd\n",
    "from tapclipy import tap_connect\n",
    "from tapclipy import textvis"
   ]
  },
  {
   "cell_type": "markdown",
   "metadata": {
    "slideshow": {
     "slide_type": "subslide"
    }
   },
   "source": [
    "We start by loading the data from from the file system. In this case it is a text file of 50 Amazon reviews."
   ]
  },
  {
   "cell_type": "code",
   "execution_count": null,
   "metadata": {
    "slideshow": {
     "slide_type": "fragment"
    }
   },
   "outputs": [],
   "source": [
    "file = open(???)\n",
    "rawtext = file.read()\n",
    "file.close()"
   ]
  },
  {
   "cell_type": "code",
   "execution_count": null,
   "metadata": {
    "slideshow": {
     "slide_type": "subslide"
    }
   },
   "outputs": [],
   "source": [
    "rawtext"
   ]
  },
  {
   "cell_type": "markdown",
   "metadata": {
    "slideshow": {
     "slide_type": "subslide"
    }
   },
   "source": [
    "Easy first step in structuring the data: split the string into a list of strings"
   ]
  },
  {
   "cell_type": "code",
   "execution_count": null,
   "metadata": {
    "slideshow": {
     "slide_type": "fragment"
    }
   },
   "outputs": [],
   "source": [
    "reviews = rawtext.split(???)\n",
    "if reviews[-1]=='':\n",
    "    del reviews[-1] #Remove last empty item"
   ]
  },
  {
   "cell_type": "code",
   "execution_count": null,
   "metadata": {
    "slideshow": {
     "slide_type": "subslide"
    }
   },
   "outputs": [],
   "source": [
    "reviews"
   ]
  },
  {
   "cell_type": "markdown",
   "metadata": {
    "slideshow": {
     "slide_type": "subslide"
    }
   },
   "source": [
    "Now we structured each review further, by extracting the sentiment and the subject."
   ]
  },
  {
   "cell_type": "code",
   "execution_count": null,
   "metadata": {
    "slideshow": {
     "slide_type": "fragment"
    }
   },
   "outputs": [],
   "source": [
    "def getSentimentLabel(text):\n",
    "    match = re.search(r\"(?<=__label__)[0-9]+\",text)\n",
    "    value = match.group(0)\n",
    "    if value=='1':\n",
    "        return ???\n",
    "    elif value=='2':\n",
    "        return ???\n",
    "\n",
    "def getSubject(text):\n",
    "    split = re.split(r\"(?<=__label__)[0-9]+\",text)\n",
    "    return split[1].strip()"
   ]
  },
  {
   "cell_type": "markdown",
   "metadata": {
    "slideshow": {
     "slide_type": "subslide"
    }
   },
   "source": [
    "Now that we have the bits, we can store them in our own custom data structure `Review` based on a `namedtuple`. We also create a function to parse the reviews into this data structure"
   ]
  },
  {
   "cell_type": "code",
   "execution_count": null,
   "metadata": {
    "slideshow": {
     "slide_type": "fragment"
    }
   },
   "outputs": [],
   "source": [
    "Review = namedtuple('review',['label','subject','text'])"
   ]
  },
  {
   "cell_type": "code",
   "execution_count": null,
   "metadata": {
    "slideshow": {
     "slide_type": "fragment"
    }
   },
   "outputs": [],
   "source": [
    "def parseReview(text):\n",
    "    textSplit = text.split(???)\n",
    "    text = textSplit[???]  \n",
    "    subject = getSubject(textSplit[???])\n",
    "    label = getSentimentLabel(textSplit[???])\n",
    "    return Review(label,subject,text)"
   ]
  },
  {
   "cell_type": "code",
   "execution_count": null,
   "metadata": {
    "slideshow": {
     "slide_type": "subslide"
    }
   },
   "outputs": [],
   "source": [
    "structuredReviews = list(map(parseReview,reviews))\n",
    "structuredReviews"
   ]
  },
  {
   "cell_type": "markdown",
   "metadata": {
    "slideshow": {
     "slide_type": "subslide"
    }
   },
   "source": [
    "We have structured data now, but it is difficult to explore as it is not in a format that is easy for humans to read. Let's fix that..."
   ]
  },
  {
   "cell_type": "code",
   "execution_count": null,
   "metadata": {
    "slideshow": {
     "slide_type": "fragment"
    }
   },
   "outputs": [],
   "source": [
    "def reviewsToHtml(reviewList):\n",
    "    def pTag(review): #function that wraps review in tags\n",
    "        return '<p><b class=\"'+review.label+'\">'+review.subject+\"</b>: \"+review.text+\"</p>\"\n",
    "    paras = map(pTag,reviewList) #Apply the wrapping function to the list\n",
    "    return HTML(''.join(paras)) #Join the paragraphs together and return as HTML\n",
    "\n",
    "structReviewsHtml = reviewsToHtml(structuredReviews)\n",
    "css = HTML(\"\"\"<style>\n",
    ".positive { color: green; }\n",
    ".negative { color: red; }\n",
    "</style>\"\"\")"
   ]
  },
  {
   "cell_type": "code",
   "execution_count": null,
   "metadata": {
    "slideshow": {
     "slide_type": "subslide"
    }
   },
   "outputs": [],
   "source": [
    "display(css,structReviewsHtml)"
   ]
  },
  {
   "cell_type": "markdown",
   "metadata": {
    "slideshow": {
     "slide_type": "subslide"
    }
   },
   "source": [
    "**DISCUSSION**\n",
    "- We did this 50 reviews. How many could we do this task on?\n",
    "- What other structuring could we do to the data?\n",
    "- In what way/s might we have *corrupted* the data?"
   ]
  },
  {
   "cell_type": "markdown",
   "metadata": {
    "slideshow": {
     "slide_type": "slide"
    }
   },
   "source": [
    "### [2] Sourcing from APIs\n",
    "\n",
    "Much of the data available to us as information professional is not conveniently in text files on our local machines.\n",
    "\n",
    "Increasingly data is being made open via Application Programming Interfaces (APIs).\n",
    "\n",
    "In the following section, we explore what an API is."
   ]
  },
  {
   "cell_type": "markdown",
   "metadata": {
    "slideshow": {
     "slide_type": "subslide"
    }
   },
   "source": [
    "First some functions to help us. Using functions, we can avoid typing the same (or very similar) code over and over again."
   ]
  },
  {
   "cell_type": "code",
   "execution_count": null,
   "metadata": {
    "slideshow": {
     "slide_type": "fragment"
    }
   },
   "outputs": [],
   "source": [
    "# Functions to fetch string/json from an API\n",
    "\n",
    "def fetch_string_from_api(url):\n",
    "    req = request.Request(url)\n",
    "    resp = request.urlopen(req)\n",
    "    return resp.read().decode('utf8')\n",
    "\n",
    "def fetch_json_from_api(url):\n",
    "    body = fetch_string_from_api(url)\n",
    "    return json.loads(body)"
   ]
  },
  {
   "cell_type": "code",
   "execution_count": null,
   "metadata": {
    "slideshow": {
     "slide_type": "subslide"
    }
   },
   "outputs": [],
   "source": [
    "#Fetch the data for the latest xkcd comic\n",
    "xkcd_url = 'http://xkcd.com/info.0.json'\n",
    "xkcd_json = ???(xkcd_url)\n",
    "print(xkcd_json)"
   ]
  },
  {
   "cell_type": "code",
   "execution_count": null,
   "metadata": {
    "slideshow": {
     "slide_type": "fragment"
    }
   },
   "outputs": [],
   "source": [
    "comicUrl = xkcd_json.get(???)\n",
    "print(comicUrl)"
   ]
  },
  {
   "cell_type": "code",
   "execution_count": null,
   "metadata": {
    "slideshow": {
     "slide_type": "subslide"
    }
   },
   "outputs": [],
   "source": [
    "display(HTML('<img src=\"'+???+'\"/>'))"
   ]
  },
  {
   "cell_type": "markdown",
   "metadata": {
    "slideshow": {
     "slide_type": "slide"
    }
   },
   "source": [
    "### Sourcing data through multiple calls\n",
    "\n",
    "Often, a single call to one API is not sufficient to get the data we need. In many instances, we need to make a call, analyse the results to find something, make another call, and repeat..."
   ]
  },
  {
   "cell_type": "code",
   "execution_count": null,
   "metadata": {
    "slideshow": {
     "slide_type": "subslide"
    }
   },
   "outputs": [],
   "source": [
    "musicdemons_url='https://musicdemons.com/api/v1/'\n",
    "artistsResp = fetch_json_from_api(musicdemons_url+???)\n",
    "artistsResp"
   ]
  },
  {
   "cell_type": "code",
   "execution_count": null,
   "metadata": {
    "slideshow": {
     "slide_type": "fragment"
    }
   },
   "outputs": [],
   "source": [
    "# Why did that take so long?\n",
    "len(???)"
   ]
  },
  {
   "cell_type": "markdown",
   "metadata": {
    "slideshow": {
     "slide_type": "subslide"
    }
   },
   "source": [
    "Can I make this easier to read?"
   ]
  },
  {
   "cell_type": "code",
   "execution_count": null,
   "metadata": {
    "scrolled": true,
    "slideshow": {
     "slide_type": "fragment"
    }
   },
   "outputs": [],
   "source": [
    "artists_df = pd.DataFrame.from_dict(artistsResp)\n",
    "artists_df"
   ]
  },
  {
   "cell_type": "markdown",
   "metadata": {
    "slideshow": {
     "slide_type": "fragment"
    }
   },
   "source": [
    "- What anomalies do you see in the data?\n",
    "- How might these cause us problems down the track?"
   ]
  },
  {
   "cell_type": "markdown",
   "metadata": {
    "slideshow": {
     "slide_type": "subslide"
    }
   },
   "source": [
    "Sometimes it is easier to work with data if we look at a smaller subset..."
   ]
  },
  {
   "cell_type": "code",
   "execution_count": null,
   "metadata": {
    "scrolled": true,
    "slideshow": {
     "slide_type": "fragment"
    }
   },
   "outputs": [],
   "source": [
    "artists_df.loc[(artists_df['year_started'] <= ???) & (artists_df['year_started'] >= ???)]"
   ]
  },
  {
   "cell_type": "markdown",
   "metadata": {
    "slideshow": {
     "slide_type": "subslide"
    }
   },
   "source": [
    "or even just one instance in the data..."
   ]
  },
  {
   "cell_type": "code",
   "execution_count": null,
   "metadata": {
    "slideshow": {
     "slide_type": "fragment"
    }
   },
   "outputs": [],
   "source": [
    "vm = artists_df.loc[artists_df['name']== ???]\n",
    "vm"
   ]
  },
  {
   "cell_type": "code",
   "execution_count": null,
   "metadata": {
    "slideshow": {
     "slide_type": "fragment"
    }
   },
   "outputs": [],
   "source": [
    "artistId = vm.get(???).values[0]\n",
    "artistId"
   ]
  },
  {
   "cell_type": "markdown",
   "metadata": {
    "slideshow": {
     "slide_type": "subslide"
    }
   },
   "source": [
    "Now we can make another call to the API and get more data"
   ]
  },
  {
   "cell_type": "code",
   "execution_count": null,
   "metadata": {
    "slideshow": {
     "slide_type": "fragment"
    }
   },
   "outputs": [],
   "source": [
    "songs_url = musicdemons_url+'artist/'+str(???)+'/songs'\n",
    "songsJson = fetch_json_from_api(songs_url)\n",
    "songsJson"
   ]
  },
  {
   "cell_type": "markdown",
   "metadata": {
    "slideshow": {
     "slide_type": "subslide"
    }
   },
   "source": [
    "We may want to use 'selecting a song' often, so create a function"
   ]
  },
  {
   "cell_type": "code",
   "execution_count": null,
   "metadata": {
    "slideshow": {
     "slide_type": "fragment"
    }
   },
   "outputs": [],
   "source": [
    "def get_song_by_title(title):\n",
    "    return [song for song in songsJson if title.lower() in song['text'].lower()][0]"
   ]
  },
  {
   "cell_type": "code",
   "execution_count": null,
   "metadata": {
    "slideshow": {
     "slide_type": "fragment"
    }
   },
   "outputs": [],
   "source": [
    "song = get_song_by_title(???)\n",
    "song['id']"
   ]
  },
  {
   "cell_type": "markdown",
   "metadata": {
    "slideshow": {
     "slide_type": "subslide"
    }
   },
   "source": [
    "Now we have a song, we can get other data (which may even come from other APIs)"
   ]
  },
  {
   "cell_type": "code",
   "execution_count": null,
   "metadata": {
    "slideshow": {
     "slide_type": "fragment"
    }
   },
   "outputs": [],
   "source": [
    "HTML('<iframe width=\"560\" height=\"315\" src=\"https://www.youtube-nocookie.com/embed/'+song['youtube_id']+'?rel=0\" frameborder=\"0\" allow=\"autoplay; encrypted-media\" allowfullscreen></iframe>')"
   ]
  },
  {
   "cell_type": "code",
   "execution_count": null,
   "metadata": {
    "slideshow": {
     "slide_type": "subslide"
    }
   },
   "outputs": [],
   "source": [
    "lyrics_url = musicdemons_url+'song/'+str(???)+'/lyrics'\n",
    "lyrics = fetch_string_from_api(lyrics_url)\n",
    "lyrics"
   ]
  },
  {
   "cell_type": "markdown",
   "metadata": {
    "slideshow": {
     "slide_type": "fragment"
    }
   },
   "source": [
    "- What kind of data do we end up with?\n",
    "- What issues might we need to deal with?"
   ]
  },
  {
   "cell_type": "markdown",
   "metadata": {
    "slideshow": {
     "slide_type": "slide"
    }
   },
   "source": [
    "### [3] Analysing with APIs\n",
    "\n",
    "APIs don't only provide data, they can provide *services* as well.\n",
    "\n",
    "Take a look at [TAP](http://tap.infosci-apps.qut.edu.au) - What service does it provide?"
   ]
  },
  {
   "cell_type": "markdown",
   "metadata": {
    "slideshow": {
     "slide_type": "fragment"
    }
   },
   "source": [
    "We can use TAP to do some analysis on our lyrics"
   ]
  },
  {
   "cell_type": "code",
   "execution_count": null,
   "metadata": {
    "slideshow": {
     "slide_type": "subslide"
    }
   },
   "outputs": [],
   "source": [
    "# Create TAP Connection\n",
    "tap = tap_connect.Connect('http://tap.hi2lab.io')\n",
    "tap.fetch_schema()\n",
    "fx = textvis.Effects()"
   ]
  },
  {
   "cell_type": "code",
   "execution_count": null,
   "metadata": {
    "slideshow": {
     "slide_type": "subslide"
    }
   },
   "outputs": [],
   "source": [
    "# TAP expects sentences, so change each line of the lyrics to a sentence.\n",
    "lyric_sents = lyrics.replace(???,'. ')\n",
    "lyric_sents"
   ]
  },
  {
   "cell_type": "markdown",
   "metadata": {
    "slideshow": {
     "slide_type": "fragment"
    }
   },
   "source": [
    "- At this point, what are we doing to the data?\n",
    "- What are the risks of doing this?"
   ]
  },
  {
   "cell_type": "markdown",
   "metadata": {
    "slideshow": {
     "slide_type": "subslide"
    }
   },
   "source": [
    "I'm interested if the lyrics exhibit any features that are common to reflective writing, so I'm going to use TAP's `reflectExpressions` query."
   ]
  },
  {
   "cell_type": "code",
   "execution_count": null,
   "metadata": {
    "scrolled": true,
    "slideshow": {
     "slide_type": "fragment"
    }
   },
   "outputs": [],
   "source": [
    "query = tap.query(???)\n",
    "analytics = tap.analyse_text(query, ???)\n",
    "analytics"
   ]
  },
  {
   "cell_type": "markdown",
   "metadata": {
    "slideshow": {
     "slide_type": "fragment"
    }
   },
   "source": [
    "- What main features can we see in the analytics?"
   ]
  },
  {
   "cell_type": "markdown",
   "metadata": {
    "slideshow": {
     "slide_type": "subslide"
    }
   },
   "source": [
    "Once again, we need to make features in the data easy to see, so that we can make good decisions and **ask the right questions!**"
   ]
  },
  {
   "cell_type": "code",
   "execution_count": null,
   "metadata": {
    "slideshow": {
     "slide_type": "fragment"
    }
   },
   "outputs": [],
   "source": [
    "# dictionary of css rules we want to apply to our data.\n",
    "customStyle = {\n",
    "    \"pertains\": {\n",
    "        \"background-color\": \"red\",\n",
    "        \"color\": \"white\"\n",
    "    },\n",
    "    \"selfpossessive\": {\n",
    "        \"background-color\": \"blue\",\n",
    "        \"color\": \"white\"\n",
    "    },\n",
    "    \"definite\": {\n",
    "        \"background-color\": \"green\",\n",
    "        \"color\": \"white\"\n",
    "    },\n",
    "    \"keyterm\": {\n",
    "        \"background-color\": \"yellow\",\n",
    "        \"color\": \"black\"\n",
    "    }\n",
    "}\n",
    "\n",
    "style = fx.make_css(customStyle)\n",
    "\n",
    "print(style)"
   ]
  },
  {
   "cell_type": "code",
   "execution_count": null,
   "metadata": {
    "scrolled": false,
    "slideshow": {
     "slide_type": "subslide"
    }
   },
   "outputs": [],
   "source": [
    "# Mark up the text with HTML tags\n",
    "\n",
    "markedup = effects.make_reflect_html(???)\n",
    "markedup"
   ]
  },
  {
   "cell_type": "code",
   "execution_count": null,
   "metadata": {
    "slideshow": {
     "slide_type": "subslide"
    }
   },
   "outputs": [],
   "source": [
    "display(HTML(effects.markup(???, ???)))"
   ]
  },
  {
   "cell_type": "markdown",
   "metadata": {
    "slideshow": {
     "slide_type": "subslide"
    }
   },
   "source": [
    "What if we want to find significant words in the data?"
   ]
  },
  {
   "cell_type": "code",
   "execution_count": null,
   "metadata": {
    "slideshow": {
     "slide_type": "fragment"
    }
   },
   "outputs": [],
   "source": [
    "# First, structured the data so that the song is a list of verses\n",
    "verses = lyrics.split(???)\n",
    "verses"
   ]
  },
  {
   "cell_type": "code",
   "execution_count": null,
   "metadata": {
    "scrolled": true,
    "slideshow": {
     "slide_type": "subslide"
    }
   },
   "outputs": [],
   "source": [
    "from sklearn.feature_extraction.text import CountVectorizer\n",
    "\n",
    "cv=CountVectorizer(max_df=0.3,stop_words=['it','for','up','of','are','be','all','and','is','has','how','in','to','on'])\n",
    "word_count_vector=cv.fit_transform(verses)\n",
    "\n",
    "sorted_by_value = sorted(cv.vocabulary_.items(), key=lambda kv: kv[1])\n",
    "keyterms = [t[0] for t in sorted_by_value[:30]]\n",
    "keyterms"
   ]
  },
  {
   "cell_type": "markdown",
   "metadata": {
    "slideshow": {
     "slide_type": "subslide"
    }
   },
   "source": [
    "Display this in a way that is easy to interpret"
   ]
  },
  {
   "cell_type": "code",
   "execution_count": null,
   "metadata": {
    "slideshow": {
     "slide_type": "fragment"
    }
   },
   "outputs": [],
   "source": [
    "keyterm_lyrics = '<br/>'.join(verses)\n",
    "for keyterm in keyterms:\n",
    "    replacement = '<span class=\"keyterm\"> '+keyterm+'</span>'\n",
    "    keyterm_lyrics = keyterm_lyrics.replace(' '+keyterm,replacement)\n",
    "#display(HTML(keyterm_lyrics))\n",
    "display(HTML(effects.markup(keyterm_lyrics, style)))"
   ]
  },
  {
   "cell_type": "markdown",
   "metadata": {
    "slideshow": {
     "slide_type": "slide"
    }
   },
   "source": [
    "### [4] 30 min hackathon\n",
    "\n",
    "You've put together a team that is providing data analytics services to application developers. **You have your first client!** \n",
    "\n",
    "Before handing over the $$$, you're new client want's to know that your team can deliver, so you've been given a task to show your skills with a complete data analytics cycle within 30 minutes.\n",
    "\n",
    "The rules are:\n",
    "- You must work as a team\n",
    "- You need to describe a realistic scenario that might be feasible for the client\n",
    "- You can pick any data source that is open (\n",
    "- You need to do something interesting with the data that fits with the scenario\n",
    "- You need to visualise the data in some way\n",
    "\n",
    "Resources:\n",
    "- [Any API](https://any-api.com)\n",
    "- [toddmotto public APIs](https://github.com/toddmotto/public-apis)"
   ]
  }
 ],
 "metadata": {
  "celltoolbar": "Slideshow",
  "kernelspec": {
   "display_name": "Python 3",
   "language": "python",
   "name": "python3"
  },
  "language_info": {
   "codemirror_mode": {
    "name": "ipython",
    "version": 3
   },
   "file_extension": ".py",
   "mimetype": "text/x-python",
   "name": "python",
   "nbconvert_exporter": "python",
   "pygments_lexer": "ipython3",
   "version": "3.6.7"
  }
 },
 "nbformat": 4,
 "nbformat_minor": 2
}
