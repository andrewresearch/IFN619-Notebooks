{
 "cells": [
  {
   "cell_type": "markdown",
   "metadata": {},
   "source": [
    "# Module 3B: Advanced Numerical Techniques and Potential Ethical Concerns (part 3)¶"
   ]
  },
  {
   "cell_type": "markdown",
   "metadata": {},
   "source": [
    "## Strategic Decision-Making?\n",
    "\n",
    "Very general, a business strategy is the direction and scope of an organisation over the **long term**, which achieves **advantage** in a **changing environment** through its configuration of **resources** and **competences** with the aim of **fulfilling** stakeholder **expectations**."
   ]
  },
  {
   "cell_type": "markdown",
   "metadata": {},
   "source": [
    "To be more precise, strategic decision-making should have the following characteristics:\n",
    "\n",
    "- Strategy is likely to be concerned with the **long-term** direction of an organisation. \n",
    "- Strategic decisions are likely to be concerned with the **scope of an organisation's activities**.\n",
    "- Strategic decisions are normally about trying to **achieve some advantage** for the organisation over competition. \n",
    "- Strategy can be seen as the **search for strategic fit with the business environment**. This could require major resource changes for an organisation in the future. \n",
    "- Strategy can also be seen as **creating opportunities** by building on an organisation's resources and competences. It is concerned with exploiting the strategic capability of an organisation, in terms of the resources and competences, to provide competitive advantage and/or yield new opportunities.\n",
    "- The strategy of an organisation is **affected** not only by **environmental forces and strategic capability**, but also by the **values and expectations** of those who have **power** in and around the organisation."
   ]
  },
  {
   "cell_type": "markdown",
   "metadata": {},
   "source": [
    "<img src=\"images/strategy.jpg\" />\n",
    "Source: <a href=\"https://www.sciencedirect.com/science/article/pii/S1364815216304194\">Analysis of Big Data technologies for use in agro-environmental science</a>"
   ]
  },
  {
   "cell_type": "markdown",
   "metadata": {},
   "source": [
    "## Problems\n",
    "\n",
    "Many managers still control and decide as if there was no worldwide computer grid. This problem has seveal aspects.\n",
    "- The use of clear **intuition** is too common\n",
    "- It is substantiated too often by **managers experience**\n",
    "- **Emotional**, **cognitive** and **socially** conditioned tendencies of managers. \n",
    "- **Heuristics**, deviations of rationanility or emotions of managers can surpress the whole decision-making process and bring him/her into the wrong end."
   ]
  },
  {
   "cell_type": "markdown",
   "metadata": {},
   "source": [
    "## The Importance of Communicating Strategic Decision\n",
    "\n",
    "Business reports are a valued tool for tracking and analyzing performance and overall business performance and health. A well-documented report will reveal nuances related to core business functions, while opening opportunities to improve and make market gains."
   ]
  },
  {
   "cell_type": "markdown",
   "metadata": {},
   "source": [
    "Business reports are valuable for different reasons:\n",
    "- **Critical Analysis:** Business reports are valuable for critically analyzing areas in which the business is doing well or poorly. Deep diving into available data leads to a cause-and-effect approach to solving performance problems. \n",
    "\n",
    "- **Benchmarks, Goal Setting and KPI's (Key Performance Indicators):** Reports show performance trends throughout time. Watching performance trends allows for the company to set benchmarks and goals. KPI's are also an important aspect of reports.\n",
    "\n",
    "- **Planning and Decision Making:** Reports help business leaders plan and make strategic decisions. They use the data to back their decisions and to justify each move made. \n",
    "\n",
    "Source: <a href=\"https://yourbusiness.azcentral.com/importance-business-reports-5681.html\">The Importance of Business Reports<a/>  "
   ]
  },
  {
   "cell_type": "markdown",
   "metadata": {},
   "source": [
    "## Risks in Businesses"
   ]
  },
  {
   "cell_type": "markdown",
   "metadata": {},
   "source": [
    "Business risk is the exposure a company or organization has to factor(s) that will lower its profits or lead it to fail.\n",
    "\n",
    "\n",
    "Anything that threatens a company's ability to meet its target or achieve its financial goals is called business risk. These risks come from a variety of sources, so it's not always the company head or a manager who's to blame. Instead, the risks may come from other sources within the firm or they may be external—from regulations to the overall economy.\n",
    "\n",
    "\n",
    "While a company may not be able to shelter itself from risk completely, there are ways it can help protect itself from the effects of business risk, primarily by adopting a risk management strategy.\n",
    "\n"
   ]
  },
  {
   "cell_type": "markdown",
   "metadata": {},
   "source": [
    "Business risk is influenced by a number of different factors including:\n",
    "\n",
    "- Consumer preferences, demand, and sales volumes\n",
    "- Business reputation\n",
    "- Prices\n",
    "- Competition\n",
    "- The overall economic climate\n",
    "- Government regulations"
   ]
  },
  {
   "cell_type": "markdown",
   "metadata": {},
   "source": [
    "### Specific Types of Risk\n",
    "\n",
    "- **Strategic Risk:** when a business does not operate according to the business model or plan. A company's strategy becomes less effective over time and it struggles to reach its defined goals.\n",
    "\n",
    "- **Compliance:** arises in industries and sectors which are highly regulated with laws (ex: Wineries cannot sell directly to retail stores)\n",
    "\n",
    "- **Operational Risk:** This risk arises from within the corporation—when the day-to-day operations of a company fail to perform (ex: internal anti-money laundering operations in HSBC).\n"
   ]
  },
  {
   "cell_type": "markdown",
   "metadata": {},
   "source": [
    "### Risk Assessment & Management\n",
    "\n",
    "Risk assessment is a general term used across many industries to **determine the likelihood of loss on an asset**, **loan**, or **investment**. Assessing risk is essential for determining how worthwhile an investment is and the best process(es) to mitigate risk. It presents the upside reward compared to the risk profile. It also determines the rate of return necessary to make a particular investment succeed."
   ]
  },
  {
   "cell_type": "markdown",
   "metadata": {},
   "source": [
    "<img src=\"https://www.pmis-consulting.com/wp-content/uploads/2014/08/project-risk-management-process.jpg\" width=\"500\" />"
   ]
  },
  {
   "cell_type": "markdown",
   "metadata": {},
   "source": [
    "## Example of Risk Assessment\n",
    "\n",
    "According to the business scenario, we will have different risk management, and risk assessment analysis.\n",
    "\n",
    "However, we can put some guidelines to help you on your analysis:\n",
    "\n",
    "<img src=\"images/risk.png\" width=\"500\" />"
   ]
  },
  {
   "cell_type": "markdown",
   "metadata": {},
   "source": [
    "An example of the analysis in healthcare is the following:\n",
    "\n",
    "<img src=\"images/health_care.png\" width=\"500\" />"
   ]
  },
  {
   "cell_type": "markdown",
   "metadata": {},
   "source": [
    "## Group discussion\n",
    "\n",
    "How do you connect this with the face recognition problem that we did in this workshop?\n"
   ]
  },
  {
   "cell_type": "code",
   "execution_count": null,
   "metadata": {},
   "outputs": [],
   "source": []
  }
 ],
 "metadata": {
  "kernelspec": {
   "display_name": "Python 3",
   "language": "python",
   "name": "python3"
  },
  "language_info": {
   "codemirror_mode": {
    "name": "ipython",
    "version": 3
   },
   "file_extension": ".py",
   "mimetype": "text/x-python",
   "name": "python",
   "nbconvert_exporter": "python",
   "pygments_lexer": "ipython3",
   "version": "3.7.1"
  }
 },
 "nbformat": 4,
 "nbformat_minor": 2
}
